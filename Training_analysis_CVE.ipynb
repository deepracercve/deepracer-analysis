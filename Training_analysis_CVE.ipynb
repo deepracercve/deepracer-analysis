{
 "cells": [
  {
   "cell_type": "markdown",
   "metadata": {},
   "source": [
    "# Training analysis for DeepRacer\n",
    "\n",
    "This notebook has been built based on the `DeepRacer Log Analysis.ipynb` provided by the AWS DeepRacer Team. It has been reorganised and expanded to provide new views on the training data without the helper code which was moved into utility `.py` files.\n",
    "\n",
    "## Usage\n",
    "\n",
    "I have expanded this notebook from to present how I'm using this information. It contains descriptions that you may find not that needed after initial reading. Since this file can change in the future, I recommend that you make its copy and reorganize it to your liking. This way you will not lose your changes and you'll be able to add things as you please.\n",
    "\n",
    "**This notebook isn't complete.** What I find interesting in the logs may not be what you will find interesting and useful. I recommend you get familiar with the tools and try hacking around to get the insights that suit your needs.\n",
    "\n",
    "## Contributions\n",
    "\n",
    "As usual, your ideas are very welcome and encouraged so if you have any suggestions either bring them to [the AWS DeepRacer Community](http://join.deepracing.io) or share as code contributions.\n",
    "\n",
    "## Training environments\n",
    "\n",
    "Depending on whether you're running your training through the console or using the local setup, and on which setup for local training you're using, your experience will vary. As much as I would like everything to be taylored to your configuration, there may be some problems that you may face. If so, please get in touch through [the AWS DeepRacer Community](http://join.deepracing.io).\n",
    "\n",
    "## Requirements\n",
    "\n",
    "Before you start using the notebook, you will need to install some dependencies. If you haven't yet done so, have a look at [The README.md file](/edit/README.md#running-the-notebooks) to find what you need to install.\n",
    "\n",
    "Apart from the install, you also have to configure your programmatic access to AWS. Have a look at the guides below, AWS resources will lead you by the hand:\n",
    "\n",
    "AWS CLI: https://docs.aws.amazon.com/cli/latest/userguide/cli-chap-configure.html\n",
    "\n",
    "Boto Configuration: https://boto3.amazonaws.com/v1/documentation/api/latest/guide/configuration.html\n",
    "\n",
    "## Credits\n",
    "\n",
    "I would like to thank [the AWS DeepRacer Community](http://join.deepracing.io) for all the feedback about the notebooks. If you'd like, follow [my blog](https://codelikeamother.uk) where I tend to write about my experiences with AWS DeepRacer.\n",
    "\n",
    "# Log Analysis\n",
    "\n",
    "Let's get to it.\n",
    "\n",
    "## Permissions\n",
    "\n",
    "Depending on where you are downloading the data from, you will need some permissions:\n",
    "* Access to CloudWatch log streams\n",
    "* Access to S3 bucket to reach the log files\n",
    "\n",
    "## Installs and setups\n",
    "\n",
    "If you are using an AWS SageMaker Notebook to run the log analysis, you will need to ensure you install required dependencies. To do that uncomment and run the following:"
   ]
  },
  {
   "cell_type": "code",
   "execution_count": null,
   "metadata": {},
   "outputs": [],
   "source": [
    "# import sys\n",
    "\n",
    "# !{sys.executable} -m pip install deepracer-utils\n",
    "# !{sys.executable} -m pip install plotly"
   ]
  },
  {
   "cell_type": "markdown",
   "metadata": {},
   "source": [
    "## Imports\n",
    "\n",
    "Run the imports block below:"
   ]
  },
  {
   "cell_type": "code",
   "execution_count": null,
   "metadata": {
    "lines_to_next_cell": 2
   },
   "outputs": [],
   "source": [
    "import pandas as pd\n",
    "import matplotlib.pyplot as plt\n",
    "\n",
    "from deepracer.tracks import TrackIO, Track\n",
    "from deepracer.tracks.track_utils import track_breakdown\n",
    "from deepracer.logs import CloudWatchLogs as cw, \\\n",
    "    SimulationLogsIO as slio, \\\n",
    "    NewRewardUtils as nr, \\\n",
    "    AnalysisUtils as au, \\\n",
    "    PlottingUtils as pu, \\\n",
    "    ActionBreakdownUtils as abu\n",
    "\n",
    "# Ignore deprecation warnings we have no power over\n",
    "import warnings\n",
    "warnings.filterwarnings('ignore')\n",
    "\n",
    "from datetime import datetime\n",
    "\n",
    "import track_utils as tux\n",
    "from track_utils_interactive import DeepRacerTrack"
   ]
  },
  {
   "cell_type": "markdown",
   "metadata": {},
   "source": [
    "## Load waypoints for the track you want to run analysis on\n",
    "\n",
    "The track waypoint files usually show up as new races start. Be sure to check for them in repository updates. You only need to load them in the block below.\n",
    "\n",
    "These files represent the coordinates of characteristic points of the track - the center line, inside border and outside border. Their main purpose is to visualise the track in images below. One thing that you may want to remember is that at the moment not all functions below work with all values of the coordinates. Especially some look awkward with bigger tracks or with negative coordinates. Usually there is an explanation on what to do to fix the view.\n",
    "\n",
    "The naming of the tracks is not super consistent. I'm also not sure all of them are available in the console or locally. You may want to know that:\n",
    "* London_Loop and Virtual_May19_Train_track - are the AWS DeepRacer Virtual League London Loop tracks\n",
    "* Tokyo - is the AWS DeepRacer Virtual League Kumo Torakku track\n",
    "* New_York - are the AWS DeepRacer Virtual League Empire City training and evaluation tracks\n",
    "* China - are the AWS Deepracer Virtual League Shanghai Sudu training and evaluation tracks\n",
    "* reinvent_base - is the re:Invent 2019 racing track\n",
    "\n",
    "There are also other tracks that you may want to explore. Each of them has its own properties that you might find useful for your model.\n",
    "\n",
    "Remeber that evaluation npy files are a community effort to visualise the tracks in the trainings, they aren't 100% accurate.\n",
    "\n",
    "Tracks Available:"
   ]
  },
  {
   "cell_type": "code",
   "execution_count": null,
   "metadata": {},
   "outputs": [],
   "source": [
    "!ls tracks/\n",
    "\n",
    "tu = TrackIO()"
   ]
  },
  {
   "cell_type": "markdown",
   "metadata": {},
   "source": [
    "Take the name from results above and paste below to load the key elements of the track and view the outline of it."
   ]
  },
  {
   "cell_type": "code",
   "execution_count": null,
   "metadata": {},
   "outputs": [],
   "source": [
    "track: Track = tu.load_track(\"Vegas_track\")\n",
    "\n",
    "pu.plot_trackpoints(track)"
   ]
  },
  {
   "cell_type": "markdown",
   "metadata": {},
   "source": [
    "## Running Locally \n",
    "\n",
    "If you're running this notebook locally, you might want to set a few things up:\n",
    "- AWS Credentials that allows you to download logs from a specific AWS Region to your local machine\n",
    "- Implement changes required for SSl Verification process (during SSL communication with AWS Resources)"
   ]
  },
  {
   "cell_type": "markdown",
   "metadata": {},
   "source": [
    "## Running Locally (Step 1) - AWS Credentials\n",
    "\n",
    "- You can generate AWS_ACCESS_KEY_ID and AWS_SECRET_ACCESS_KEY from under you AWS Account (in the console)\n",
    "- Set the following environment variables (Windows)\n"
   ]
  },
  {
   "cell_type": "code",
   "execution_count": null,
   "metadata": {},
   "outputs": [],
   "source": [
    "# Set Credentials - and use \n",
    "%env AWS_ACCESS_KEY_ID <use your credentials>\n",
    "%env AWS_SECRET_ACCESS_KEY <use your credentials>\n",
    "%env AWS_DEFAULT_REGION us-east-1"
   ]
  },
  {
   "cell_type": "code",
   "execution_count": null,
   "metadata": {},
   "outputs": [],
   "source": [
    "import os\n",
    "print(os.environ['AWS_ACCESS_KEY_ID'])"
   ]
  },
  {
   "cell_type": "markdown",
   "metadata": {},
   "source": [
    "## Running Locally (Step 2) - Setting up the local certificate\n",
    "\n",
    "- Setting up certifi\n",
    "- Adding the company's certificate (provide option or automate download)"
   ]
  },
  {
   "cell_type": "code",
   "execution_count": null,
   "metadata": {},
   "outputs": [],
   "source": [
    "# Certifi would use a collection of root certificate for SSL communication (certifi.where() will give the location of the collection cacert.pem file)\n",
    "# Adding the Cenovus certificate to the above collection might get ssl connection working\n",
    "\n",
    "\n",
    "\n",
    "# UNCOMMENT THE LINE TO INSTALL CERTIFI\n",
    "# !{sys.executable} -m pip install certifi\n",
    "\n",
    "\n",
    "import certifi\n",
    "from shutil import copyfile\n",
    "import time\n",
    "import urllib.request\n",
    "\n",
    "current_cert = certifi.where()\n",
    "copyfile(current_cert, f\"{current_cert}.{int(time.time()*1000)}\")\n",
    "\n",
    "\n",
    "url_for_certicate = 'http://git:8080/tsalama/certificates/blob/master/cenovus.pem?raw=true'\n",
    "path_to_local_certificate = './cenovus.pem'\n",
    "urllib.request.urlretrieve(url_for_certicate, local_certificate_file_path)\n",
    "\n",
    "with open(path_to_local_certificate, 'rb') as infile:\n",
    "    cenovus_crt = infile.read()\n",
    "with open(current_cert, 'ab') as outfile:\n",
    "    outfile.write(cenovus_crt)\n"
   ]
  },
  {
   "cell_type": "markdown",
   "metadata": {},
   "source": [
    "## Running Locally (Step 3) - Testing the connction\n",
    "\n",
    "- Using the boto3 client to connect to logs"
   ]
  },
  {
   "cell_type": "code",
   "execution_count": null,
   "metadata": {},
   "outputs": [],
   "source": [
    "# Testing client connectivity (especial SSL Verification)\n",
    "import boto3\n",
    "client = boto3.client('logs')\n",
    "response = client.list_tags_log_group(\n",
    "    logGroupName='/aws/robomaker/SimulationJobs'\n",
    ")\n",
    "response # you should get something similar to {'tags': {}, 'ResponseMetadata': {}} (with no Errors)"
   ]
  },
  {
   "cell_type": "markdown",
   "metadata": {},
   "source": [
    "## Get the logs\n",
    "\n",
    "Depending on which way you are training your model, you will need a different way to load the data.\n",
    "\n",
    "**AWS DeepRacer Console**\n",
    "The logs are being stored in CloudWatch, in group `/aws/robomaker/SimulationJobs`. You will be using boto3 to download them based on the training ID (stream name prefix). If you wish to bulk export the logs from Amazon Cloudwatch to Amazon S3 :: https://docs.aws.amazon.com/AmazonCloudWatch/latest/logs/S3ExportTasks.html\n",
    "\n",
    "**DeepRacer for Dummies/ARCC local training**\n",
    "Those two setups come with a container that runs Jupyter Notebook (as you noticed if you're using one of them and reading this text). Logs are stored in `/logs/` and you just need to point at the latest file to see the current training. The logs are split for long running training if they exceed 500 MB. The log loading method has been extended to support that.\n",
    "\n",
    "**Chris Rhodes' repo**\n",
    "Chris repo doesn't come with logs storage out of the box. I would normally run `docker logs dr > /path/to/logfile` and then load the file.\n",
    "\n",
    "Below I have prepared a section for each case. In each case you can analyse the logs as the training is being run, just in case of the Console you may need to force downloading of the logs as the `cw.download_log` method has a protection against needless downloads.\n",
    "\n",
    "Select your preferred way to get the logs below and you can get rid of the rest."
   ]
  },
  {
   "cell_type": "code",
   "execution_count": null,
   "metadata": {},
   "outputs": [],
   "source": [
    "# Set the stream name (get from AWS Deppracer sim-job name)\n",
    "stream_name = 'sim-ys5bfbty2vwp' ## CHANGE This to your simulation application ID\n",
    "fname = 'logs/deepracer-%s.log' %stream_name  # The log will be downloaded into the specified path"
   ]
  },
  {
   "cell_type": "code",
   "execution_count": null,
   "metadata": {},
   "outputs": [],
   "source": [
    "# Download files\n",
    "\n",
    "cw.download_log(fname, stream_prefix=stream_name)  # add force=True if you downloaded the file before but want to repeat\n",
    "\n",
    "# DeepRacer for Dummies / ARCC repository - comment the above and uncomment\n",
    "# the lines below. They rely on a magic command to list log files\n",
    "# ordered by time and pick up the most recent one (index zero).\n",
    "# If you want an earlier file, change 0 to larger value.\n",
    "# !ls -t /workspace/venv/logs/*.log\n",
    "# fname = !ls -t /workspace/venv/logs/*.log\n",
    "# fname = fname[0]\n",
    "\n",
    "\n",
    "# Chris Rhodes' repository\n",
    "# Use a preferred way of saving the logs to a file , then set an fname value to load it\n",
    "# fname = /path/to/your/log/file"
   ]
  },
  {
   "cell_type": "markdown",
   "metadata": {},
   "source": [
    "## Load the trace training log\n",
    "\n",
    "Now that the data is downloaded, we need to load it into memory. We will first read it from file and then convert to data frames in Pandas. [Pandas](https://pandas.pydata.org/) is a Python library for handling and analysing large amounts of data series. Remember this name, you may want to learn more about how to use it to get more information that you would like to get from the logs. Examples below are hardly scratching the surface.\n",
    "\n",
    "One important information to enter is the setting of your Episodes per iteration hyperparameter. This is used to group the episodes into iterations. This information is valuable when later looking at graphs showing how the training progresses per iteration. You can use it to detect which iteration gave you better outcomes and, if in local training, you could move to that iteration's outcome for submissions in the AWS DeepRacer League or  for continuing the training.\n",
    "\n",
    "The log files you have just gathered above have lines like this one:\n",
    "```\n",
    "SIM_TRACE_LOG:799,111,1.7594,4.4353,3.0875,-0.26,2.50,2,1.0000,False,True,71.5802,49,17.67,1555554451.1110387\n",
    "```\n",
    "This is all that matters for us. The first two are some tests I believe and when loading they get skipped, then each next line has the following fields:\n",
    "* episode number\n",
    "* step number\n",
    "* x coordinate\n",
    "* y coordinate\n",
    "* yaw of the car (where the car is heading)\n",
    "* decision about turning (turn value from your action space)\n",
    "* decision about throttle (speed value from your action space)\n",
    "* decision index (value from your action space)\n",
    "* reward value\n",
    "* is the lap complete\n",
    "* are all wheels on track?\n",
    "* progress in the lap\n",
    "* closest waypoint\n",
    "* track length\n",
    "* timestamp\n",
    "\n",
    "`la.load_data` and then `la.convert_to_pandas` read it and prepare for your usage. Sorting the values may not be needed, but I have experienced under some circumstances that the log lines were not ordered properly."
   ]
  },
  {
   "cell_type": "code",
   "execution_count": null,
   "metadata": {},
   "outputs": [],
   "source": [
    "EPISODES_PER_ITERATION = 30 #  Set to value of your hyperparameter in training\n",
    "\n",
    "data = slio.load_data(fname)\n",
    "df = slio.convert_to_pandas(data, episodes_per_iteration=EPISODES_PER_ITERATION)\n",
    "\n",
    "df = df.sort_values(['episode', 'steps'])\n",
    "\n",
    "df.tail()\n",
    "\n",
    "# personally I think normalizing can mask too high rewards so I am commenting it out,\n",
    "# but you might want it.\n",
    "# slio.normalize_rewards(df)\n",
    "\n",
    "#Uncomment the line of code below to evaluate a different reward function\n",
    "#nr.new_reward(df, track.center_line, 'reward.reward_sample') #, verbose=True)"
   ]
  },
  {
   "cell_type": "code",
   "execution_count": null,
   "metadata": {},
   "outputs": [],
   "source": [
    "drt = DeepRacerTrack(\"Vegas_track\", df)\n",
    "drt.plot_track()"
   ]
  },
  {
   "cell_type": "code",
   "execution_count": null,
   "metadata": {},
   "outputs": [],
   "source": [
    "drt.plot_episode(30)"
   ]
  },
  {
   "cell_type": "code",
   "execution_count": null,
   "metadata": {},
   "outputs": [],
   "source": [
    "drt.plot_iteration(10)"
   ]
  },
  {
   "cell_type": "markdown",
   "metadata": {},
   "source": [
    "## New reward\n",
    "\n",
    "Note the last line above: it takes a reward class from log-analysis/rewards, imports it, instantiates and recalculates reward values based on the data from the log. This lets you do some testing before you start training and rule out some obvious things.\n",
    "\n",
    "*If you find this confusing, don't worry, because it is confusing. You can safely ignore it for now and come back to it later.*\n",
    "\n",
    "This operation is possible because the logs contain all information needed to recreate the params for a given step. That said some could be implemented better and some were ignored for now and should be implemented.\n",
    "\n",
    "The sample reward mentioned in that line is located in `log-analysis/rewards/reward_sample.py` and looks like this:\n",
    "\n",
    "```\n",
    "from time import time\n",
    "\n",
    "\n",
    "class Reward:\n",
    "    def __init__(self, verbose=False):\n",
    "        self.previous_steps = None\n",
    "        self.initial_time = None\n",
    "        self.verbose = verbose\n",
    "\n",
    "    @staticmethod\n",
    "    def get_time(params):\n",
    "        # remember: this will not return time before\n",
    "        # the first step has completed so the total\n",
    "        # time for lap will be lower by about 0.2s\n",
    "        return params.get('timestamp', None) or time()\n",
    "\n",
    "    def reward_function(self, params):\n",
    "        if self.previous_steps is None \\\n",
    "                or self.previous_steps > params['steps']:\n",
    "            # new lap!\n",
    "            self.initial_time = self.get_time(params)\n",
    "        else:\n",
    "            # we're continuing a lap\n",
    "            pass\n",
    "\n",
    "        steering_factor = 1.0\n",
    "\n",
    "        if abs(params['steering_angle']) > 14:\n",
    "            steering_factor = 0.7\n",
    "\n",
    "        reward = float(steering_factor)\n",
    "\n",
    "        self.previous_steps = params['steps']\n",
    "\n",
    "        if self.verbose:\n",
    "            print(params)\n",
    "\n",
    "        return reward\n",
    "\n",
    "\n",
    "reward_object = Reward()\n",
    "\n",
    "\n",
    "def reward_function(params):\n",
    "    return reward_object.reward_function(params)\n",
    "\n",
    "```\n",
    "\n",
    "After some imports a class is declared, it's called `Reward`, then the class is instantiated and a function `reward_function` is declared. This somewhat bloated structure has a couple benefits:\n",
    "* It works in console/local training for actual training\n",
    "* It lets you reload the definition for class Reward and retry the reward function multiple times after changes without much effort\n",
    "* If you want to rely on state carried over between the steps, it's all contained in a reward object \n",
    "\n",
    "The reward class hides two or three tricks for you:\n",
    "* `get_time` lets you abstract from machine time in log analysis - the supporting code adds one extra param, `timestamp`. That lets you get the right time value in new_reward function\n",
    "* the first condition allows detecting the beginning of an episode or even start of training you can use it for some extra operations between the episodes\n",
    "* `verbose` can be used to provide some noisier prints in the reward function - you can switch them on when loading the reward function above.\n",
    "\n",
    "Just remember: not all params are provided, you are free to implement them and raise a Pull Request for log_analysis.df_to_params method.\n",
    "\n",
    "If you just wrap your reward function like in the above example, you can use it in both log analysis notebook and the training.\n",
    "\n",
    "Final warning: there is a loss of precision in the logs (rounded numbers) and also potentially potential bugs. If you find any, please fix, please report.\n",
    "\n",
    "## Graphs\n",
    "\n",
    "The original notebook has provided some great ideas on what could be visualised in the graphs. Below examples are a slightly extended version. Let's have a look at what they are presenting and what this may mean to your training.\n",
    "\n",
    "### Training progress\n",
    "\n",
    "As you have possibly noticed by now, training episodes are grouped into iterations and this notebook also reflects it. What also marks it are checkpoints in the training. After each iteration a set of ckpt files is generated - they contain outcomes of the training, then a model.pb file is built based on that and the car begins a new iteration. Looking at the data grouped by iterations may lead you to a conclusion, that some earlier checkpoint would be a better start for a new training. While this is limited in the AWS DeepRacer Console, with enough disk space you can keep all the checkpoints along the way and use one of them as a start for new training (or even as a submission to a race).\n",
    "\n",
    "While the episodes in a given iteration are a mixture of decision process and random guesses, mean results per iteration may show a specific trend. Mean values are accompanied by standard deviation to show the concentration of values around the mean.\n",
    "\n",
    "#### Rewards per Iteration\n",
    "\n",
    "You can see these values as lines or dots per episode in the AWS DeepRacer console. When the reward goes up, this suggests that a car is learning and improving with regards to a given reward function. **This does not have to be a good thing.** If your reward function rewards something that harms performance, your car will learn to drive in a way that will make results worse.\n",
    "\n",
    "At first the rewards just grow if the progress achieved grows. Interesting things may happen slightly later in the training:\n",
    "\n",
    "* The reward may go flat at some level - it might mean that the car can't get any better. If you think you could still squeeze something better out of it, review the car's progress and consider updating the reward function, the action space, maybe hyperparameters, or perhaps starting over (either from scratch or from some previous checkpoint)\n",
    "* The reward may become wobbly - here you will see it as a mesh of dots zig-zagging. It can be a gradually growing zig-zag or a roughly stagnated one. This usually means the learning rate hyperparameter is too high and the car started doing actions that oscilate around some local extreme. You can lower the learning rate and hope to step closer to the extreme. Or run away from it if you don't like it\n",
    "* The reward plunges to near zero and stays roughly flat - I only had that when I messed up the hyperparameters or the reward function. Review recent changes and start training over or consider starting from scratch\n",
    "\n",
    "The Standard deviation says how close from each other the reward values per episode in a given iteration are. If your model becomes reasonably stable and worst performances become better, at some point the standard deviation may flat out or even decrease. That said, higher speeds usually mean there will be areas on track with higher risk of failure. This may bring the value of standard deviation to a higher value and regardless of whether you like it or not, you need to accept it as a part of fighting for significantly better times.\n",
    "\n",
    "#### Time per iteration\n",
    "\n",
    "I'm not sure how useful this graph is. I would worry if it looked very similar to the reward graph - this could suggest that slower laps will be getting higher rewards. But there is a better graph for spotting that below.\n",
    "\n",
    "#### Progress per Iteration\n",
    "\n",
    "This graph usually starts low and grows and at some point it will get flatter. The maximum value for progress is 100% so it cannot grow without limits. It usually shows similar initial behaviours to reward and time graphs. I usually look at it when I alter an action in training. In such cases this graph usually dips a bit and then returns or goes higher.\n",
    "\n",
    "#### Total reward per episode\n",
    "\n",
    "This graph has been taken from the orignal notebook and can show progress on certain groups of behaviours. It usually forms something like a triangle, sometimes you can see a clear line of progress that shows some new way has been first taught and then perfected.\n",
    "\n",
    "#### Mean completed lap times per iteration\n",
    "\n",
    "Once we have a model that completes laps reasonably often, we might want to know how fast the car gets around the track. This graph will show you that. I use it quite often when looking for a model to shave a couple more miliseconds. That said it has to go in pair with the last one:\n",
    "\n",
    "#### Completion rate per iteration\n",
    "\n",
    "It represents how big part of all episodes in an iteration is full laps. The value is from range [0, 1] and is a result of deviding amount of full laps in iteration by amount of all episodes in iteration. I say it has to go in pair with the previous one because you not only need a fast lapper, you also want a race completer.\n",
    "\n",
    "The higher the value, the more stable the model is on a given track."
   ]
  },
  {
   "cell_type": "code",
   "execution_count": null,
   "metadata": {
    "lines_to_next_cell": 0
   },
   "outputs": [],
   "source": [
    "simulation_agg = au.simulation_agg(df)\n",
    "pd.options.plotting.backend = 'matplotlib'\n",
    "au.analyze_training_progress(simulation_agg, title='Training progress')"
   ]
  },
  {
   "cell_type": "markdown",
   "metadata": {
    "lines_to_next_cell": 2
   },
   "source": [
    "### Stats for all laps\n",
    "\n",
    "Previous graphs were mainly focused on the state of training with regards to training progress. This however will not give you a lot of information about how well your reward function is doing overall.\n",
    "\n",
    "In such case `scatter_aggregates` may come handy. It comes with three types of graphs:\n",
    "* progress/steps/reward depending on the time of an episode - of this I find reward/time and new_reward/time especially useful to see that I am rewarding good behaviours - I expect the reward to time scatter to look roughly triangular\n",
    "* histograms of time and progress - for all episodes the progress one is usually quite handy to get an idea of model's stability\n",
    "* progress/time_if_complete/reward to closest waypoint at start - these are really useful during training as they show potentially problematic spots on track. It can turn out that a car gets best reward (and performance) starting at a point that just cannot be reached if the car starts elsewhere, or that there is a section of a track that the car struggles to get past and perhaps it's caused by an aggressive action space or undesirable behaviour prior to that place\n",
    "\n",
    "Side note: `time_if_complete` is not very accurate and will almost always look better for episodes closer to 100% progress than in case of those 50% and below."
   ]
  },
  {
   "cell_type": "code",
   "execution_count": null,
   "metadata": {},
   "outputs": [],
   "source": [
    "au.scatter_aggregates(simulation_agg, 'Stats for all laps')"
   ]
  },
  {
   "cell_type": "markdown",
   "metadata": {},
   "source": [
    "### Stats for complete laps\n",
    "The graphs here are same as above, but now I am interested in other type of information:\n",
    "* does the reward scatter show higher rewards for lower completion times? If I give higher reward for a slower lap it might suggest that I am training the car to go slow\n",
    "* what does the time histogram look like? With enough samples available the histogram takes a normal distribution graph shape. The lower the mean value, the better the chance to complete a fast lap consistently. The longer the tails, the greater the chance of getting lucky in submissions\n",
    "* is the car completing laps around the place where the race lap starts? Or does it only succeed if it starts in a place different to the racing one?"
   ]
  },
  {
   "cell_type": "code",
   "execution_count": null,
   "metadata": {},
   "outputs": [],
   "source": [
    "complete_ones = simulation_agg[simulation_agg['progress']==100]\n",
    "\n",
    "if complete_ones.shape[0] > 0:\n",
    "    au.scatter_aggregates(complete_ones, 'Stats for complete laps')\n",
    "else:\n",
    "    print('No complete laps yet.')"
   ]
  },
  {
   "cell_type": "markdown",
   "metadata": {},
   "source": [
    "### Categories analysis\n",
    "We're going back to comparing training results based on the training time, but in a different way. Instead of just scattering things in relation to iteration or episode number, this time we're grouping episodes based on a certaing information. For this we use function:\n",
    "```\n",
    "analyze_categories(panda, category='quintile', groupcount=5, title=None)\n",
    "```\n",
    "The idea is pretty simple - determine a way to cluster the data and provide that as the `category` parameter (alongside the count of groups available). In the default case we take advantage of the aggregated information to which quintile an episode belongs and thus build buckets each containing 20% of episodes which happened around the same time during the training. If your training lasted for five hours, this would show results grouped per each hour.\n",
    "\n",
    "A side note: if you run the function with `category='start_at'` and `groupcount=20` you will get results based on the waypoint closest to the starting point of an episode. If you need to, you can introduce other types of categories and reuse the function.\n",
    "\n",
    "The graphs are similar to what we've seen above. I especially like the progress one which shows where the model tends to struggle and whether it's successful laps rate is improving or beginning to decrease. Interestingly, I also had cases where I saw the completion drop on the progress rate only to improve in a later quintile, but with a better time graph.\n",
    "\n",
    "A second side note: if you run this function for `complete_ones` instead of `simulation_agg`, suddenly the time histogram becomes more interesting as you can see whether completion times improve."
   ]
  },
  {
   "cell_type": "code",
   "execution_count": null,
   "metadata": {},
   "outputs": [],
   "source": [
    "au.scatter_by_groups(simulation_agg, title='Quintiles')"
   ]
  },
  {
   "cell_type": "markdown",
   "metadata": {},
   "source": [
    "## Data in tables\n",
    "\n",
    "While a lot can be seen in graphs that cannot be seen in the raw numbers, the numbers let us get into more detail. Below you will find a couple examples. If your model is behaving the way you would like it to, below tables may provide little added value, but if you struggle to improve your car's performance, they may come handy. In such cases I look for examples where high reward is giving to below-expected episode and when good episodes are given low reward.\n",
    "\n",
    "You can then take the episode number and scatter it below, and also look at reward given per step - this can in turn draw your attention to some rewarding anomalies and help you detect some unexpected outcomes in your reward function.\n",
    "\n",
    "There is a number of ways to select the data for display:\n",
    "* `nlargest`/`nsmallest` lets you display information based on a specific value being highest or lowest\n",
    "* filtering based on a field value, for instance `df[df['episode']==10]` will display only those steps in `df` which belong to episode 10\n",
    "* `head()` lets you peek into a dataframe\n",
    "\n",
    "There isn't a right set of tables to display here and the ones below may not suit your needs. Get to know Pandas more and have fun with them. It's almost as addictive as DeepRacer itself.\n",
    "\n",
    "The examples have a short comment next to them explaining what they are showing."
   ]
  },
  {
   "cell_type": "code",
   "execution_count": null,
   "metadata": {},
   "outputs": [],
   "source": [
    "# View ten best rewarded episodes in the training\n",
    "simulation_agg.nlargest(10, 'new_reward')"
   ]
  },
  {
   "cell_type": "code",
   "execution_count": null,
   "metadata": {},
   "outputs": [],
   "source": [
    "# View five fastest complete laps\n",
    "complete_ones.nsmallest(5, 'time')"
   ]
  },
  {
   "cell_type": "code",
   "execution_count": null,
   "metadata": {},
   "outputs": [],
   "source": [
    "# View five best rewarded completed laps\n",
    "complete_ones.nlargest(5, 'reward')"
   ]
  },
  {
   "cell_type": "code",
   "execution_count": null,
   "metadata": {},
   "outputs": [],
   "source": [
    "# View five best rewarded in completed laps (according to new_reward if you are using it)\n",
    "complete_ones.nlargest(5, 'new_reward')"
   ]
  },
  {
   "cell_type": "code",
   "execution_count": null,
   "metadata": {},
   "outputs": [],
   "source": [
    "# View five most progressed episodes\n",
    "simulation_agg.nlargest(5, 'progress')"
   ]
  },
  {
   "cell_type": "code",
   "execution_count": null,
   "metadata": {},
   "outputs": [],
   "source": [
    "# View information for a couple first episodes\n",
    "simulation_agg.head()"
   ]
  },
  {
   "cell_type": "code",
   "execution_count": null,
   "metadata": {},
   "outputs": [],
   "source": [
    "# Set maximum quantity of rows to view for a dataframe display - without that\n",
    "# the view below will just hide some of the steps\n",
    "pd.set_option('display.max_rows', 500)\n",
    "\n",
    "# View all steps data for episode 10\n",
    "df[df['episode']==10]"
   ]
  },
  {
   "cell_type": "markdown",
   "metadata": {},
   "source": [
    "## Analyze the reward distribution for your reward function"
   ]
  },
  {
   "cell_type": "code",
   "execution_count": null,
   "metadata": {},
   "outputs": [],
   "source": [
    "# This shows a histogram of actions per closest waypoint for episode 771.\n",
    "# Will let you spot potentially problematic places in reward granting.\n",
    "# In this example reward function is clearly `return 1`. It may be worrying\n",
    "# if your reward function has some logic in it.\n",
    "# If you have a final step reward that makes the rest of this histogram\n",
    "# unreadable, you can filter the last step out by using\n",
    "# `episode[:-1].plot.bar` instead of `episode.plot.bar`\n",
    "episode = df[df['episode']==559]\n",
    "episode.plot.bar(x='closest_waypoint', y='reward')"
   ]
  },
  {
   "cell_type": "markdown",
   "metadata": {},
   "source": [
    "### Path taken for top reward iterations\n",
    "\n",
    "NOTE: at some point in the past in a single episode the car could go around multiple laps, the episode was terminated when car completed 1000 steps. Currently one episode has at most one lap. This explains why you can see multiple laps in an episode plotted below.\n",
    "\n",
    "Being able to plot the car's route in an episode can help you detect certain patterns in its behaviours and either promote them more or train away from them. While being able to watch the car go in the training gives some information, being able to reproduce it after the training is much more practical.\n",
    "\n",
    "Graphs below give you a chance to look deeper into your car's behaviour on track.\n",
    "\n",
    "We start with plot_selected_laps. The general idea of this block is as follows:\n",
    "* Select laps(episodes) that have the properties that you care about, for instance, fastest, most progressed, failing in a certain section of the track or not failing in there,\n",
    "* Provide the list of them in a dataframe into the plot_selected_laps, together with the whole training dataframe and the track info,\n",
    "* You've got the laps to analyse."
   ]
  },
  {
   "cell_type": "code",
   "execution_count": null,
   "metadata": {
    "lines_to_next_cell": 0
   },
   "outputs": [],
   "source": [
    "# Some examples:\n",
    "# highest reward for complete laps:\n",
    "episodes_to_plot = complete_ones.nlargest(3,'reward')\n",
    "\n",
    "# highest progress from all episodes:\n",
    "# episodes_to_plot = simulation_agg.nlargest(3,'progress')\n",
    "pd.options.plotting.backend = 'matplotlib'\n",
    "pu.plot_selected_laps(episodes_to_plot, df, track)"
   ]
  },
  {
   "cell_type": "markdown",
   "metadata": {
    "lines_to_next_cell": 2
   },
   "source": [
    "### Plot a heatmap of rewards for current training. \n",
    "The brighter the colour, the higher the reward granted in given coordinates.\n",
    "If instead of a similar view as in the example below you get a dark image with hardly any \n",
    "dots, it might be that your rewards are highly disproportionate and possibly sparse.\n",
    "\n",
    "Disproportion means you may have one reward of 10.000 and the rest in range 0.01-1.\n",
    "In such cases the vast majority of dots will simply be very dark and the only bright dot\n",
    "might be in a place difficult to spot. I recommend you go back to the tables and show highest\n",
    "and average rewards per step to confirm if this is the case. Such disproportions may\n",
    "not affect your traning very negatively, but they will make the data less readable in this notebook.\n",
    "\n",
    "Sparse data means that the car gets a high reward for the best behaviour and very low reward\n",
    "for anything else, and worse even, reward is pretty much discrete (return 10 for narrow perfect,\n",
    "else return 0.1). The car relies on reward varying between behaviours to find gradients that can\n",
    "lead to improvement. If that is missing, the model will struggle to improve."
   ]
  },
  {
   "cell_type": "code",
   "execution_count": null,
   "metadata": {},
   "outputs": [],
   "source": [
    "#If you'd like some other colour criterion, you can add\n",
    "#a value_field parameter and specify a different column\n",
    "\n",
    "pu.plot_track(df, track)"
   ]
  },
  {
   "cell_type": "markdown",
   "metadata": {},
   "source": [
    "### Plot a particular iteration\n",
    "This is same as the heatmap above, but just for a single iteration."
   ]
  },
  {
   "cell_type": "code",
   "execution_count": null,
   "metadata": {},
   "outputs": [],
   "source": [
    "#If you'd like some other colour criterion, you can add\n",
    "#a value_field parameter and specify a different column\n",
    "iteration_id = 3\n",
    "\n",
    "pu.plot_track(df[df['iteration'] == iteration_id], track)"
   ]
  },
  {
   "cell_type": "markdown",
   "metadata": {},
   "source": [
    "### Path taken in a particular episode"
   ]
  },
  {
   "cell_type": "code",
   "execution_count": null,
   "metadata": {},
   "outputs": [],
   "source": [
    "episode_id = 122\n",
    "\n",
    "pu.plot_selected_laps(simulation_agg[simulation_agg['episode'] == episode_id], df, track)"
   ]
  },
  {
   "cell_type": "markdown",
   "metadata": {},
   "source": [
    "### Path taken in a particular iteration"
   ]
  },
  {
   "cell_type": "code",
   "execution_count": null,
   "metadata": {},
   "outputs": [],
   "source": [
    "iteration_id = 10\n",
    "\n",
    "pu.plot_selected_laps([iteration_id], df, track, section_to_plot = 'iteration')"
   ]
  },
  {
   "cell_type": "markdown",
   "metadata": {},
   "source": [
    "# Bulk training load\n",
    "\n",
    "This is some slow and heavy stuff. You can download all logs from CloudWatch (or part of them if you play with `not_older_than` and `older_than` parameters that take a string representation of a date in ISO format, for instance `DD-MM-YYYY` works).\n",
    "\n",
    "Since it can be a lot of downloading, it is commented out in here to avoid accidental runs.\n",
    "\n",
    "Files downloaded once will not be downloaded again unless you add `force=True`."
   ]
  },
  {
   "cell_type": "code",
   "execution_count": null,
   "metadata": {},
   "outputs": [],
   "source": [
    "# logs = cw.download_all_logs('logs/deepracer-', '/aws/robomaker/SimulationJobs')"
   ]
  },
  {
   "cell_type": "markdown",
   "metadata": {},
   "source": [
    "Load every log from a folder. Every single one. This is a lot of data. If you want to save yourself some time later, below you have code to save and load all that with use of pickle.\n",
    "\n",
    "Alternatively, `logs` returned from `download_all_logs` is a list of tuples in which first element is a path to a downloaded log file (even if it already exists, but would've been donwloaded if `force=True`), so you can use that to load logs in bulk."
   ]
  },
  {
   "cell_type": "code",
   "execution_count": null,
   "metadata": {},
   "outputs": [],
   "source": [
    "import os\n",
    "\n",
    "base_folder = 'logs'\n",
    "df_list = list()\n",
    "big_training_panda = None\n",
    "for stream in os.listdir(base_folder):\n",
    "    data = slio.load_data('%s/%s' % (base_folder, stream))\n",
    "    df = slio.convert_to_pandas(data)\n",
    "    df['stream'] = stream[10:]\n",
    "    if big_training_panda is not None:\n",
    "        big_training_panda = big_training_panda.append(df)\n",
    "    else:\n",
    "        big_training_panda = df"
   ]
  },
  {
   "cell_type": "code",
   "execution_count": null,
   "metadata": {},
   "outputs": [],
   "source": [
    "# Have I mentioned a lot of data? This stores the data preprocessed for time savings\n",
    "big_training_panda.to_pickle('bulk_training_set.pickle')"
   ]
  },
  {
   "cell_type": "code",
   "execution_count": null,
   "metadata": {},
   "outputs": [],
   "source": [
    "from pandas import read_pickle\n",
    "\n",
    "big_training_panda = read_pickle('bulk_training_set.pickle')"
   ]
  },
  {
   "cell_type": "code",
   "execution_count": null,
   "metadata": {},
   "outputs": [],
   "source": [
    "# as usual, handle with care. Towards the end of the May race I needed 30-45 minutes to recalculate the reward.\n",
    "#nr.new_reward(big_training_panda, track.center_line, 'reward.reward_sample') #, verbose=True)"
   ]
  },
  {
   "cell_type": "code",
   "execution_count": null,
   "metadata": {},
   "outputs": [],
   "source": [
    "# Below code is using stream name as part of grouping since otherwise there would be episode number collisions\n",
    "big_simulation_agg = au.simulation_agg(big_training_panda, 'stream')\n",
    "\n",
    "big_complete_ones = big_simulation_agg[big_simulation_agg['progress']==100]"
   ]
  },
  {
   "cell_type": "code",
   "execution_count": null,
   "metadata": {},
   "outputs": [],
   "source": [
    "grouped = big_simulation_agg.groupby(['stream'])\n",
    "\n",
    "for name, group in grouped:\n",
    "    au.scatter_aggregates(group, title=name)"
   ]
  },
  {
   "cell_type": "markdown",
   "metadata": {},
   "source": [
    "By the end of London Loop I had so much noise and random tries that wanted to find the most promising version of my model to submit. I used the below piece of code to iterate through all the stream values to detect the one with most promising times histogram. I should've added progress as well since the fastest ones hardly ever completed a lap. I will leave adding that as an exercise for the reader."
   ]
  },
  {
   "cell_type": "code",
   "execution_count": null,
   "metadata": {},
   "outputs": [],
   "source": [
    "values = []\n",
    "show = []\n",
    "show_above = -1\n",
    "i = 0\n",
    "for value in big_complete_ones.stream.values:\n",
    "    if value in values:\n",
    "        continue\n",
    "    values.append(value)\n",
    "    if i in show or i > show_above:\n",
    "        print(value)\n",
    "        big_complete_ones[big_complete_ones['stream']==value].hist(column=['time'], bins=20)\n",
    "    i += 1"
   ]
  },
  {
   "cell_type": "code",
   "execution_count": null,
   "metadata": {},
   "outputs": [],
   "source": [
    "# display loads of everything\n",
    "big_simulation_agg"
   ]
  },
  {
   "cell_type": "markdown",
   "metadata": {},
   "source": [
    "# Action breakdown per iteration and historgram for action distribution for each of the turns - reinvent track\n",
    "\n",
    "This plot is useful to understand the actions that the model takes for any given iteration. Unfortunately at this time it is not fit for purpose as it assumes six actions in the action space and has other issues. It will require some work to get it to done but the information it returns will be very valuable.\n",
    "\n",
    "This is a bit of an attempt to abstract away from the brilliant function in the original notebook towards a more general graph that we could use. It should be treated as a work in progress. The track_breakdown could be used as a starting point for a general track information object to handle all the customisations needed in methods of this notebook.\n",
    "\n",
    "A breakdown track data needs to be available for it. If you cannot find it for the desired track, MAKEIT.\n",
    "\n",
    "Currently supported tracks:"
   ]
  },
  {
   "cell_type": "code",
   "execution_count": null,
   "metadata": {},
   "outputs": [],
   "source": [
    "track_breakdown.keys()"
   ]
  },
  {
   "cell_type": "markdown",
   "metadata": {},
   "source": [
    "The second parameter is either a single index or a list of indices for df iterations that you would like to view. You can for instance use `sorted_idx` list which is a sorted list of iterations from the highest to lowest reward.\n",
    "\n",
    "Bear in mind that you will have to provide a proper action naming in parameter `action_names`, this function assumes only six actions by default. I think they need to match numbering of actions in your model's metadata json file."
   ]
  },
  {
   "cell_type": "code",
   "execution_count": null,
   "metadata": {},
   "outputs": [],
   "source": [
    "abu.action_breakdown(df, 20, track, track_breakdown['reinvent2018'])"
   ]
  }
 ],
 "metadata": {
  "jupytext": {
   "formats": "ipynb,py:light"
  },
  "kernelspec": {
   "display_name": "Python 3.6.8 64-bit ('aws': conda)",
   "language": "python",
   "name": "python36864bitawscondaf24554c3ba8749beb4719af3176a92e8"
  },
  "language_info": {
   "codemirror_mode": {
    "name": "ipython",
    "version": 3
   },
   "file_extension": ".py",
   "mimetype": "text/x-python",
   "name": "python",
   "nbconvert_exporter": "python",
   "pygments_lexer": "ipython3",
   "version": "3.6.8-final"
  }
 },
 "nbformat": 4,
 "nbformat_minor": 4
}